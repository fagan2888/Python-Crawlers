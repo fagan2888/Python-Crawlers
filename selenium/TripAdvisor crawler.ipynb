{
 "cells": [
  {
   "cell_type": "code",
   "execution_count": 106,
   "metadata": {
    "collapsed": false
   },
   "outputs": [],
   "source": [
    "import requests\n",
    "import bs4\n",
    "from selenium import webdriver\n",
    "from selenium.webdriver.common.by import By\n",
    "from selenium.webdriver.support.ui import WebDriverWait\n",
    "from selenium.webdriver.support import expected_conditions as EC\n",
    "import time\n",
    "\n",
    "# for display progress\n",
    "from ipywidgets import IntProgress\n",
    "from IPython.display import display"
   ]
  },
  {
   "cell_type": "code",
   "execution_count": 69,
   "metadata": {
    "collapsed": true
   },
   "outputs": [],
   "source": [
    "# to store hrefs of hotels\n",
    "hrefs = []"
   ]
  },
  {
   "cell_type": "code",
   "execution_count": 70,
   "metadata": {
    "collapsed": true
   },
   "outputs": [],
   "source": [
    "# initialize web driver\n",
    "driver = webdriver.Chrome()"
   ]
  },
  {
   "cell_type": "code",
   "execution_count": 71,
   "metadata": {
    "collapsed": true
   },
   "outputs": [],
   "source": [
    "wait = WebDriverWait(driver, 10)"
   ]
  },
  {
   "cell_type": "code",
   "execution_count": 72,
   "metadata": {
    "collapsed": true
   },
   "outputs": [],
   "source": [
    "# fill the url of the first page of hotel list\n",
    "driver.get(\"https://www.tripadvisor.co.uk/Hotels-g297418-Zhuhai_Guangdong-Hotels.html\")"
   ]
  },
  {
   "cell_type": "code",
   "execution_count": 81,
   "metadata": {
    "collapsed": true
   },
   "outputs": [],
   "source": [
    "while True:\n",
    "    # roll down to the bottom\n",
    "    # here 5300 is a special value for this page, need change for other pages\n",
    "    js= \"var q=document.body.scrollTop=5300\"\n",
    "    driver.execute_script(js)\n",
    "    \n",
    "    # extract html and get hrefs\n",
    "    soup = bs4.BeautifulSoup(driver.page_source, \"lxml\")\n",
    "    hotel_table = soup.find(\"div\", {\"id\": \"taplc_hotels_list_short_cells2_0\"})\n",
    "    hotel_list = hotel_table.findAll(\"div\", {\"class\": \"listing easyClear  p13n_imperfect \"})\n",
    "    \n",
    "    for hotel in hotel_list:\n",
    "        hrefs.append(hotel.find(\"a\", {\"class\": \"property_title \"})['href'])\n",
    "        \n",
    "    try:\n",
    "        element = wait.until(EC.element_to_be_clickable((By.CSS_SELECTOR, \".nav.next.ui_button.primary.taLnk\")))\n",
    "        time.sleep(3)\n",
    "        element.click()\n",
    "    except:\n",
    "        break"
   ]
  },
  {
   "cell_type": "code",
   "execution_count": 82,
   "metadata": {
    "collapsed": true
   },
   "outputs": [],
   "source": [
    "driver.close()"
   ]
  },
  {
   "cell_type": "code",
   "execution_count": 83,
   "metadata": {
    "collapsed": true
   },
   "outputs": [],
   "source": [
    "hrefs = list(set(hrefs))"
   ]
  },
  {
   "cell_type": "code",
   "execution_count": 84,
   "metadata": {
    "collapsed": false
   },
   "outputs": [
    {
     "data": {
      "text/plain": [
       "534"
      ]
     },
     "execution_count": 84,
     "metadata": {},
     "output_type": "execute_result"
    }
   ],
   "source": [
    "len(hrefs)"
   ]
  },
  {
   "cell_type": "code",
   "execution_count": 146,
   "metadata": {
    "collapsed": true
   },
   "outputs": [],
   "source": [
    "rating_data = {}"
   ]
  },
  {
   "cell_type": "code",
   "execution_count": 147,
   "metadata": {
    "collapsed": true
   },
   "outputs": [],
   "source": [
    "hrefs_done = []\n",
    "hrefs_no_data = []"
   ]
  },
  {
   "cell_type": "code",
   "execution_count": 148,
   "metadata": {
    "collapsed": false
   },
   "outputs": [],
   "source": [
    "# Initialize a progess bar\n",
    "progress = IntProgress()\n",
    "progress.max = len(hrefs)\n",
    "progress.description = '(Init)'\n",
    "display(progress)\n",
    "time.sleep(0.25)\n",
    "\n",
    "for i, href in enumerate(hrefs):\n",
    "    if href in hrefs_done:\n",
    "        continue\n",
    "        \n",
    "    a = requests.get(url + href)\n",
    "    soup = bs4.BeautifulSoup(a.text, \"lxml\")\n",
    "    name = soup.find(\"h1\", {\"id\": \"HEADING\"}).text.strip()\n",
    "    \n",
    "    rating_data[name] = {}\n",
    "    rating_data[name]['url'] = url + href\n",
    "    try:\n",
    "        ratings = soup.find(\"div\", {\"id\": \"ratingFilter\"}).findAll(\"li\")\n",
    "    except:\n",
    "        hrefs_no_data.append(url + href)\n",
    "        continue\n",
    "\n",
    "    for row in ratings:\n",
    "        rating = row.find(\"div\", {\"class\": \"row_label\"}).text.strip()\n",
    "        num = row.find(\"label\").findAll(\"span\")[2].text\n",
    "        rating_data[name][rating] = int(num.rstrip('\\n'))\n",
    "    \n",
    "    hrefs_done.append(href)\n",
    "    \n",
    "    # change the value of progress bar\n",
    "    progress.value = i + 1\n",
    "    progress.description = str(i+1)\n",
    "    \n",
    "progress.description = '(Done)'"
   ]
  },
  {
   "cell_type": "code",
   "execution_count": 154,
   "metadata": {
    "collapsed": false
   },
   "outputs": [
    {
     "data": {
      "text/plain": [
       "205"
      ]
     },
     "execution_count": 154,
     "metadata": {},
     "output_type": "execute_result"
    }
   ],
   "source": [
    "# number of hotels that have no data\n",
    "len(hrefs_no_data)"
   ]
  },
  {
   "cell_type": "code",
   "execution_count": 153,
   "metadata": {
    "collapsed": false
   },
   "outputs": [],
   "source": [
    "# export to .xls\n",
    "import xlwt\n",
    "w = xlwt.Workbook(encoding='utf-8')\n",
    "ws = w.add_sheet('sheet0')\n",
    "style0 = xlwt.XFStyle()\n",
    "rating_types = ['Excellent', 'Very good', 'Average', 'Poor', 'Terrible']\n",
    "for col, rating_type in enumerate(rating_types):\n",
    "    ws.write(0, col+2, rating_type)\n",
    "row = 1\n",
    "for hotel in rating_data:\n",
    "    ws.write(row, 0, hotel)\n",
    "    ws.write(row, 1, rating_data[hotel]['url'])\n",
    "    \n",
    "    if rating_data[hotel]['url'] in hrefs_no_data:\n",
    "        row += 1\n",
    "        continue\n",
    "    for col, rating_type in enumerate(rating_types):\n",
    "        ws.write(row, col+2, rating_data[hotel][rating_type])\n",
    "    row += 1\n",
    "\n",
    "w.save(r'/Users/hyde/Desktop/Zhuhai_hotels.xls')"
   ]
  },
  {
   "cell_type": "code",
   "execution_count": null,
   "metadata": {
    "collapsed": true
   },
   "outputs": [],
   "source": []
  }
 ],
 "metadata": {
  "anaconda-cloud": {},
  "kernelspec": {
   "display_name": "Python [Root]",
   "language": "python",
   "name": "Python [Root]"
  },
  "language_info": {
   "codemirror_mode": {
    "name": "ipython",
    "version": 3
   },
   "file_extension": ".py",
   "mimetype": "text/x-python",
   "name": "python",
   "nbconvert_exporter": "python",
   "pygments_lexer": "ipython3",
   "version": "3.5.2"
  }
 },
 "nbformat": 4,
 "nbformat_minor": 0
}
