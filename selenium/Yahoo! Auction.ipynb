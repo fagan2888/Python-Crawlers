{
 "cells": [
  {
   "cell_type": "code",
   "execution_count": 23,
   "metadata": {
    "collapsed": false
   },
   "outputs": [],
   "source": [
    "import requests\n",
    "import bs4\n",
    "from selenium import webdriver\n",
    "from selenium.webdriver.common.by import By\n",
    "from selenium.webdriver.support.ui import WebDriverWait\n",
    "from selenium.webdriver.support import expected_conditions as EC\n",
    "import time"
   ]
  },
  {
   "cell_type": "markdown",
   "metadata": {},
   "source": [
    "# get ids of auctions and the original expiration time"
   ]
  },
  {
   "cell_type": "code",
   "execution_count": 126,
   "metadata": {
    "collapsed": true
   },
   "outputs": [],
   "source": [
    "def get_id(page_src, id_list):\n",
    "    # check all items available in this page, and add id to id_list if\n",
    "    # the time left for auction is greater than 5 mins (so that we can\n",
    "    # get the original time for auction to be closed) (to keep enough\n",
    "    # time to crawl all the original auction expiration time, we exclude items\n",
    "    # with 10 mins left, too.)\n",
    "\n",
    "    soup = bs4.BeautifulSoup(page_src, \"lxml\")\n",
    "    item_table = soup.find(\"table\")\n",
    "    item_list = item_table.findAll(\"tr\")\n",
    "\n",
    "    for i in range(len(item_list)):\n",
    "        try:\n",
    "            time_left = item_list[i].find(\"td\", {\"class\": \"ti\"}).text\n",
    "            if time_left in ['1分','2分','3分','4分','5分','10分']:\n",
    "                continue\n",
    "            id_ = item_list[i+2].find(\"a\", {\"class\": \"b unwt\"})['id'].split(':')[0]\n",
    "            id_list.append(id_)\n",
    "        except:\n",
    "            None"
   ]
  },
  {
   "cell_type": "code",
   "execution_count": 157,
   "metadata": {
    "collapsed": true
   },
   "outputs": [],
   "source": [
    "def get_due_time(item_page):\n",
    "    \n",
    "    soup = bs4.BeautifulSoup(driver.page_source, \"lxml\")\n",
    "\n",
    "    for row in soup.findAll(\"li\", {\"class\": \"ProductDetail__item\"}):\n",
    "        if row.find(\"dt\", {\"class\": \"ProductDetail__title\"}).text == \"終了日時\":\n",
    "            return row.find(\"dd\").text.split(\"：\")[1]"
   ]
  },
  {
   "cell_type": "code",
   "execution_count": 210,
   "metadata": {
    "collapsed": true
   },
   "outputs": [],
   "source": [
    "# initialize web driver\n",
    "driver = webdriver.Chrome()\n",
    "wait = WebDriverWait(driver, 10)"
   ]
  },
  {
   "cell_type": "code",
   "execution_count": 211,
   "metadata": {
    "collapsed": false
   },
   "outputs": [],
   "source": [
    "driver.get('https://auctions.yahoo.co.jp/user/jp/show/mystatus')"
   ]
  },
  {
   "cell_type": "code",
   "execution_count": 212,
   "metadata": {
    "collapsed": true
   },
   "outputs": [],
   "source": [
    "# log in Yahoo!\n",
    "# fill the usrname and password\n",
    "username = driver.find_element_by_id(\"username\")\n",
    "username.send_keys(usrname)\n",
    "driver.find_element_by_id(\"btnNext\").click()"
   ]
  },
  {
   "cell_type": "code",
   "execution_count": 213,
   "metadata": {
    "collapsed": true
   },
   "outputs": [],
   "source": [
    "password = driver.find_element_by_id(\"passwd\")\n",
    "password.send_keys(password)\n",
    "driver.find_element_by_id(\"btnSubmit\").click()"
   ]
  },
  {
   "cell_type": "code",
   "execution_count": 173,
   "metadata": {
    "collapsed": true
   },
   "outputs": [],
   "source": [
    "driver.get('https://auctions.yahoo.co.jp/category/list/%E3%83%91%E3%82%BD%E3%82%B3%E3%83%B3-%E3%82%B3%E3%83%B3%E3%83%94%E3%83%A5%E3%83%BC%E3%82%BF-%E3%82%AA%E3%83%BC%E3%82%AF%E3%82%B7%E3%83%A7%E3%83%B3/2084039759/?p=%E3%83%91%E3%82%BD%E3%82%B3%E3%83%B3&tab_ex=commerce&s1=end&o1=a')\n",
    "id_list = []\n",
    "\n",
    "get_id(driver.page_source, id_list)\n",
    "for i in range(30):\n",
    "    next_page = driver.find_element_by_class_name(\"next\").find_element_by_tag_name(\"a\").get_attribute(\"href\")\n",
    "    driver.get(next_page)\n",
    "    get_id(driver.page_source, id_list)"
   ]
  },
  {
   "cell_type": "code",
   "execution_count": 330,
   "metadata": {
    "collapsed": false
   },
   "outputs": [
    {
     "data": {
      "text/plain": [
       "578"
      ]
     },
     "execution_count": 330,
     "metadata": {},
     "output_type": "execute_result"
    }
   ],
   "source": [
    "len(id_list)"
   ]
  },
  {
   "cell_type": "code",
   "execution_count": 175,
   "metadata": {
    "collapsed": true
   },
   "outputs": [],
   "source": [
    "item_url = 'https://page.auctions.yahoo.co.jp/jp/auction/'\n",
    "items = {}\n",
    "\n",
    "for id_ in id_list:\n",
    "    items[id_] = {}\n",
    "    driver.get(item_url + id_)\n",
    "    items[id_]['due_time'] = get_due_time(driver.page_source)"
   ]
  },
  {
   "cell_type": "code",
   "execution_count": 181,
   "metadata": {
    "collapsed": false
   },
   "outputs": [],
   "source": [
    "driver.close()"
   ]
  },
  {
   "cell_type": "code",
   "execution_count": 206,
   "metadata": {
    "collapsed": false
   },
   "outputs": [],
   "source": [
    "# change the due time to time stamp\n",
    "for item in items:\n",
    "    a = items[item]['due_time']\n",
    "    try:\n",
    "        timeArray = time.strptime(a, \"%Y.%m.%d（\" + a.split('（')[1][0] + \"）%H:%M\")\n",
    "        timeStamp = int(time.mktime(timeArray))\n",
    "        items[item]['due_timeStamp'] = timeStamp\n",
    "    except:\n",
    "        None"
   ]
  },
  {
   "cell_type": "markdown",
   "metadata": {},
   "source": [
    "# get the bids log of auctions after auctions are closed"
   ]
  },
  {
   "cell_type": "code",
   "execution_count": 293,
   "metadata": {
    "collapsed": true
   },
   "outputs": [],
   "source": [
    "def get_log(id_):\n",
    "    # get the log of bids\n",
    "    \n",
    "    log_list = []\n",
    "    log_url = 'https://auctions.yahoo.co.jp/jp/show/bid_hist?aID={0}&apg={1}&typ=log#listtop'\n",
    "    driver.get(log_url.format(id_, 1))\n",
    "    soup = bs4.BeautifulSoup(driver.page_source, \"lxml\")\n",
    "    log_table = soup.findAll(\"tbody\")[5]\n",
    "    log_list += log_table.findAll(\"tr\")\n",
    "    \n",
    "    bid_number = int(driver.find_element_by_class_name(\"pts03\").find_element_by_tag_name(\"p\").text.split('（')[1].split('：')[1].split('件')[0])\n",
    "    page_number = bid_number // 50 + 1\n",
    "    \n",
    "    for page in range(page_number-1):\n",
    "        driver.get(log_url.format(id_, page+2))\n",
    "        soup = bs4.BeautifulSoup(driver.page_source, \"lxml\")\n",
    "        log_table = soup.findAll(\"tbody\")[5]\n",
    "        log_list += log_table.findAll(\"tr\")\n",
    "    \n",
    "    log_list = [log.text for log in log_list]\n",
    "    \n",
    "    return log_list"
   ]
  },
  {
   "cell_type": "code",
   "execution_count": 305,
   "metadata": {
    "collapsed": true
   },
   "outputs": [],
   "source": [
    "# initialize web driver\n",
    "driver = webdriver.Chrome()\n",
    "wait = WebDriverWait(driver, 10)"
   ]
  },
  {
   "cell_type": "code",
   "execution_count": 306,
   "metadata": {
    "collapsed": true
   },
   "outputs": [],
   "source": [
    "driver.get('https://auctions.yahoo.co.jp/user/jp/show/mystatus')"
   ]
  },
  {
   "cell_type": "code",
   "execution_count": 307,
   "metadata": {
    "collapsed": true
   },
   "outputs": [],
   "source": [
    "# log in Yahoo!\n",
    "username = driver.find_element_by_id(\"username\")\n",
    "username.send_keys(usrname)\n",
    "driver.find_element_by_id(\"btnNext\").click()"
   ]
  },
  {
   "cell_type": "code",
   "execution_count": 308,
   "metadata": {
    "collapsed": true
   },
   "outputs": [],
   "source": [
    "password = driver.find_element_by_id(\"passwd\")\n",
    "password.send_keys(password)\n",
    "driver.find_element_by_id(\"btnSubmit\").click()"
   ]
  },
  {
   "cell_type": "code",
   "execution_count": 323,
   "metadata": {
    "collapsed": true
   },
   "outputs": [],
   "source": [
    "for item in items:\n",
    "    try:\n",
    "        items[item]['log_list'] = get_log(item)\n",
    "    except:\n",
    "        None"
   ]
  },
  {
   "cell_type": "code",
   "execution_count": 361,
   "metadata": {
    "collapsed": true
   },
   "outputs": [],
   "source": [
    "driver.close()"
   ]
  },
  {
   "cell_type": "code",
   "execution_count": 326,
   "metadata": {
    "collapsed": false
   },
   "outputs": [],
   "source": [
    "valid_auction = {}\n",
    "for item in items:\n",
    "    \n",
    "    try:\n",
    "        bids_number = len(items[item]['log_list'])\n",
    "        if bids_number <= 1:\n",
    "            continue\n",
    "        valid_auction[item] = items[item]\n",
    "    except:\n",
    "        None"
   ]
  },
  {
   "cell_type": "code",
   "execution_count": 328,
   "metadata": {
    "collapsed": false
   },
   "outputs": [
    {
     "data": {
      "text/plain": [
       "40"
      ]
     },
     "execution_count": 328,
     "metadata": {},
     "output_type": "execute_result"
    }
   ],
   "source": [
    "len(valid_auction)"
   ]
  },
  {
   "cell_type": "code",
   "execution_count": 347,
   "metadata": {
    "collapsed": true
   },
   "outputs": [],
   "source": [
    "# find out the auctions which is extended\n",
    "extended_auction = {}\n",
    "\n",
    "for item in valid_auction:\n",
    "    a = valid_auction[item]['log_list'][0].split('\\n')[1]\n",
    "    timeArray = time.strptime(\"2017\" + a, \"%Y[%m月 %d日 %H時 %M分]\")\n",
    "    timeStamp = int(time.mktime(timeArray))\n",
    "    \n",
    "    if timeStamp > valid_auction[item]['due_timeStamp']:\n",
    "        extended_auction[item] = valid_auction[item]"
   ]
  },
  {
   "cell_type": "code",
   "execution_count": 348,
   "metadata": {
    "collapsed": false
   },
   "outputs": [
    {
     "data": {
      "text/plain": [
       "28"
      ]
     },
     "execution_count": 348,
     "metadata": {},
     "output_type": "execute_result"
    }
   ],
   "source": [
    "len(extended_auction)"
   ]
  },
  {
   "cell_type": "code",
   "execution_count": 360,
   "metadata": {
    "collapsed": true
   },
   "outputs": [],
   "source": [
    "with open('/Users/hyde/Dropbox/auctions/Yahoo!_Auction/auction_log.txt', 'w') as f:\n",
    "    for item in extended_auction:\n",
    "        f.write('ID:{}\\n'.format(item))\n",
    "        f.write('expiration time:{}\\n'.format(items[item]['due_time']))\n",
    "        f.write('-'*40 + '\\n\\n')\n",
    "        f.write('time' + ' '*4 + 'user' + ' '*5 + 'bid\\n')\n",
    "        f.write('-'*40 + '\\n\\n')\n",
    "        for line in items[item]['log_list']:\n",
    "            f.write(' '.join(line.split('\\n')) + '\\n')\n",
    "        \n",
    "        f.write('='*80 + '\\n\\n')"
   ]
  },
  {
   "cell_type": "code",
   "execution_count": null,
   "metadata": {
    "collapsed": true
   },
   "outputs": [],
   "source": []
  }
 ],
 "metadata": {
  "anaconda-cloud": {},
  "kernelspec": {
   "display_name": "Python [Root]",
   "language": "python",
   "name": "Python [Root]"
  },
  "language_info": {
   "codemirror_mode": {
    "name": "ipython",
    "version": 3
   },
   "file_extension": ".py",
   "mimetype": "text/x-python",
   "name": "python",
   "nbconvert_exporter": "python",
   "pygments_lexer": "ipython3",
   "version": "3.5.2"
  }
 },
 "nbformat": 4,
 "nbformat_minor": 0
}
